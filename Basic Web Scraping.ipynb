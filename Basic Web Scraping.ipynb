{
  "nbformat": 4,
  "nbformat_minor": 0,
  "metadata": {
    "colab": {
      "name": "HW1_Q2.ipynb",
      "provenance": []
    },
    "kernelspec": {
      "name": "python3",
      "display_name": "Python 3"
    }
  },
  "cells": [
    {
      "cell_type": "code",
      "metadata": {
        "colab": {
          "base_uri": "https://localhost:8080/"
        },
        "id": "Ka8uemALfJ2c",
        "outputId": "f640c630-3631-4f81-c293-e3a36376941c"
      },
      "source": [
        "##Get the data from website\r\n",
        "import requests \r\n",
        "from bs4 import BeautifulSoup\r\n",
        "url = \"https://athletics.baruch.cuny.edu/sports/mens-volleyball/roster\"\r\n",
        "page = requests.get(url)\r\n",
        "\r\n",
        "page.content  ##content of classes, for the problem we need \"sidearm-roster-player-height\" class\r\n",
        "soup = BeautifulSoup(page.content, \"html.parser\")\r\n",
        "height_volley = soup.findAll('span', class_ = 'sidearm-roster-player-height')\r\n",
        "print(height_volley)"
      ],
      "execution_count": 12,
      "outputs": [
        {
          "output_type": "stream",
          "text": [
            "[<span class=\"sidearm-roster-player-height\">5'9\"</span>, <span class=\"sidearm-roster-player-height\">6'4\"</span>, <span class=\"sidearm-roster-player-height\">6'0\"</span>, <span class=\"sidearm-roster-player-height\">5'10\"</span>, <span class=\"sidearm-roster-player-height\">6'2\"</span>, <span class=\"sidearm-roster-player-height\">6'3\"</span>, <span class=\"sidearm-roster-player-height\">6'0\"</span>, <span class=\"sidearm-roster-player-height\">5'10\"</span>, <span class=\"sidearm-roster-player-height\">5'9\"</span>, <span class=\"sidearm-roster-player-height\">6'5\"</span>, <span class=\"sidearm-roster-player-height\">6'4\"</span>, <span class=\"sidearm-roster-player-height\">6'4\"</span>, <span class=\"sidearm-roster-player-height\">6'5\"</span>, <span class=\"sidearm-roster-player-height\">6'1\"</span>, <span class=\"sidearm-roster-player-height\">6'3\"</span>, <span class=\"sidearm-roster-player-height\">6'3\"</span>, <span class=\"sidearm-roster-player-height\">6'2\"</span>, <span class=\"sidearm-roster-player-height\">5'9\"</span>, <span class=\"sidearm-roster-player-height\">6'4\"</span>, <span class=\"sidearm-roster-player-height\">6'0\"</span>, <span class=\"sidearm-roster-player-height\">5'10\"</span>, <span class=\"sidearm-roster-player-height\">6'2\"</span>, <span class=\"sidearm-roster-player-height\">6'3\"</span>, <span class=\"sidearm-roster-player-height\">6'0\"</span>, <span class=\"sidearm-roster-player-height\">5'10\"</span>, <span class=\"sidearm-roster-player-height\">5'9\"</span>, <span class=\"sidearm-roster-player-height\">6'5\"</span>, <span class=\"sidearm-roster-player-height\">6'4\"</span>, <span class=\"sidearm-roster-player-height\">6'4\"</span>, <span class=\"sidearm-roster-player-height\">6'5\"</span>, <span class=\"sidearm-roster-player-height\">6'1\"</span>, <span class=\"sidearm-roster-player-height\">6'3\"</span>, <span class=\"sidearm-roster-player-height\">6'3\"</span>, <span class=\"sidearm-roster-player-height\">6'2\"</span>]\n"
          ],
          "name": "stdout"
        }
      ]
    },
    {
      "cell_type": "code",
      "metadata": {
        "id": "kZsLgUYbf8k4"
      },
      "source": [
        "#Extract data and place it in the list \r\n",
        "height_list = []\r\n",
        "\r\n",
        "for text in height_volley:\r\n",
        "    height = text.get_text()\r\n",
        "    print(height)\r\n",
        "    height_list.append(height)\r\n",
        "\r\n",
        "print(height_list)"
      ],
      "execution_count": null,
      "outputs": []
    },
    {
      "cell_type": "code",
      "metadata": {
        "id": "bdyNur1kgOlf"
      },
      "source": [
        "#split feet and inches\r\n",
        "feet = [i.split(\"'\", 1)[0] for i in height_list]\r\n",
        "inches = [i.split(\"'\", 1)[1][:-1] for i in height_list]\r\n"
      ],
      "execution_count": 5,
      "outputs": []
    },
    {
      "cell_type": "code",
      "metadata": {
        "colab": {
          "base_uri": "https://localhost:8080/"
        },
        "id": "Fg29jUqVgVfP",
        "outputId": "4cff6e29-873e-432f-e037-67fbce99fb11"
      },
      "source": [
        "#convert string to int for feet and inches\r\n",
        "for i in range(0, len(feet)): \r\n",
        "    feet[i] = int(feet[i])\r\n",
        "for i in range(0,len(inches)):\r\n",
        "    inches[i] = int(inches[i])\r\n",
        "print(feet)\r\n",
        "print(inches)"
      ],
      "execution_count": 14,
      "outputs": [
        {
          "output_type": "stream",
          "text": [
            "[5, 6, 6, 5, 6, 6, 6, 5, 5, 6, 6, 6, 6, 6, 6, 6, 6, 5, 6, 6, 5, 6, 6, 6, 5, 5, 6, 6, 6, 6, 6, 6, 6, 6]\n",
            "[9, 4, 0, 10, 2, 3, 0, 10, 9, 5, 4, 4, 5, 1, 3, 3, 2, 9, 4, 0, 10, 2, 3, 0, 10, 9, 5, 4, 4, 5, 1, 3, 3, 2]\n"
          ],
          "name": "stdout"
        }
      ]
    },
    {
      "cell_type": "code",
      "metadata": {
        "colab": {
          "base_uri": "https://localhost:8080/"
        },
        "id": "2GvgWxJogWUt",
        "outputId": "6a273599-f4bf-4333-aa21-a873ae419684"
      },
      "source": [
        "#total inches and calculating average \r\n",
        "tot_inches = (feet*12 + inches)\r\n",
        "average_height = sum(tot_inches)/len(tot_inches)\r\n",
        "print(average_height)\r\n"
      ],
      "execution_count": 11,
      "outputs": [
        {
          "output_type": "stream",
          "text": [
            "5.656108597285068\n"
          ],
          "name": "stdout"
        }
      ]
    },
    {
      "cell_type": "code",
      "metadata": {
        "id": "E1lPhR6LhENh"
      },
      "source": [
        ""
      ],
      "execution_count": null,
      "outputs": []
    }
  ]
}
